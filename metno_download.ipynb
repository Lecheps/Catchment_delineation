{
 "cells": [
  {
   "cell_type": "code",
   "execution_count": 1,
   "metadata": {},
   "outputs": [],
   "source": [
    "#%matplotlib inline\n",
    "import matplotlib\n",
    "import pylab\n",
    "matplotlib.style.use('ggplot')\n",
    "\n",
    "import getpass\n",
    "from encrypt import decryptString, decryptCredentials\n",
    "import psycopg2 as db\n",
    "import psycopg2.extras\n",
    "from psycopg2 import sql\n",
    "import pprint\n",
    "\n",
    "\n",
    "import gmaps\n",
    "import gmaps.geojson_geometries\n",
    "import geojson\n",
    "\n",
    "import metnoRequests as metno\n",
    "\n",
    "import ipywidgets as widgets\n",
    "import traitlets\n",
    "import IPython\n",
    "from IPython.display import Javascript,display\n",
    "\n",
    "def run_cell(idx) :\n",
    "    display(Javascript('IPython.notebook.execute_cells([{}])'.format(idx))) \n",
    "    \n",
    "def run_below() :\n",
    "    Javascript('IPython.notebook.execute_cells_below()')     \n",
    "    \n",
    "def on_change(change):\n",
    "    if change['type'] == 'change' and change['name'] == 'value':\n",
    "        run_cell(10)\n",
    "        \n",
    "#def list_select(change) :\n",
    "#    if change['type']=='change' and change['name']=='value':\n",
    "        #print('changed to {}'.format(change['new']))\n",
    "\n",
    "def on_fetch(change) :\n",
    "    if change['type']=='change' and change['name']=='value':\n",
    "        run_cell(11)\n",
    "        "
   ]
  },
  {
   "cell_type": "markdown",
   "metadata": {},
   "source": [
    "# Automated data download from Meteorologisk Institutt\n",
    "\n",
    "The purpose of this notebook is to document the routine to automatically download the freely available data from the Meteorologisk Institutt (metno).\n",
    "\n",
    "The rationale is to download catchment-averaged (if possible) data. As such, it is first required to determine catchment boundaries. This is done with the [catchment delineation](https://github.com/Lecheps/Catchment_delineation) tool, also presented as a notebook. The catchment delineation tool (will eventually) allow to automatically delineate catchment in the whole norway, based on a coordinates only.\n",
    "The results from the tool are stored as [Postgis](https://postgis.net/) objects in a [Postgresql](https://www.postgresql.org/) database.\n",
    "\n",
    "Interaction with metno is done through their [frost.met.no api](https://frost.met.no/index.html).\n",
    "\n",
    "In order to compute the catchment-averaged variables, data from stations within and at a certain distance from the catchment will be downloaded.\n",
    "\n",
    "After running the catchment delineation tool, we need to interact with two of the generated tables. One storing the basins and one containing the stations. These, and the schema they belong to have to be explicitly defined.\n",
    "\n",
    "In order to find the stations near the catchment we need to define a buffer around the catchment. Due to limitations to metno's api, this is currently a square surrounding it: the extent of the shapefile plus a buffer distance. This will be stored in a temporary table.\n",
    "\n",
    "The downloaded datasets will be stored in the database and as python pickles (of a pandas dataframe).\n",
    "\n",
    "In order to successfully run this notebook access to the database is needed as well as a client id from metno. The former is granted by whoever is a database administrator (currently JLG) and the other is [easily obtained in the metno site](https://data.met.no/auth/requestCredentials.html).\n",
    "\n",
    "Some of the generated results will be displayed using the [gmaps](https://github.com/pbugnion/gmaps) package.\n",
    "In order to use this it is necessary to get a google api key.\n",
    "\n",
    "## Decrypting credentials for metno and the geodatabase\n",
    "\n",
    "The credentials have been previously encrypted using the cryptography package. The encryption is performed in order not to expose the actual credentials on github."
   ]
  },
  {
   "cell_type": "code",
   "execution_count": 2,
   "metadata": {},
   "outputs": [
    {
     "name": "stdout",
     "output_type": "stream",
     "text": [
      "Password: ········\n"
     ]
    }
   ],
   "source": [
    "metnoToken = b'gAAAAABaYEqld0O48m09jEyMUBFTdBmZA2BVey2r7FKbo_7zrJPOa1aEGcpW0WmnhGVJHYUPm32f8ttaiboXxAF-Q9hDat3lhsa4ELzrT6J_e402kRDmWi6k0kpldOC2LTBNM9vNLLF4'\n",
    "databaseToken = b'gAAAAABaVgNb96o6n1Kixc3fHKQWyEPN7jnJvXv_NJs65yjvJDqZZOH4w9aTyYJD28kx3iJr4EG0nsqTgxv_PRCOPKjkGPlQHycz8BuRTr25vETKiPAbLT28CJWLYLnWMllF_M1sGj_GErPOciHOQiraNUuo6IJMlVnUVMR5FvhP7YtqCKwtLSk0yefn4HU2fc6I5x1NNd94'\n",
    "apiToken = b'gAAAAABaXyLsGnF3ms4sC3ZhoLCwWAx9q0tydWl8XKEwOy8CO0W6Eqc8J4om8HNDlNR9nExYCmSrelp8W5R-PLtcce1I2UgW3YnlXXqWvrMN-outYwXhZoc59djfF752mzOPqXBHgpNC'\n",
    "\n",
    "password = getpass.getpass('Password: ')\n",
    "\n",
    "try :\n",
    "    metnoKey = decryptString(metnoToken, password)\n",
    "except :\n",
    "    print(\"Wrong password (probably)\")\n",
    "        \n",
    "try :\n",
    "    credentials = decryptCredentials(databaseToken, password)\n",
    "except :\n",
    "    print(\"Wrong password (probably)\")\n",
    "\n",
    "try : \n",
    "    apiKey = decryptString(apiToken,password)\n",
    "except :\n",
    "    print(\"Wrong password (probably)\")\n",
    "        \n",
    "    \n",
    "gmaps.configure(api_key=apiKey)\n",
    "metno.init(metnoKey,'https://frost.met.no')\n",
    "\n",
    "del(password)"
   ]
  },
  {
   "cell_type": "markdown",
   "metadata": {},
   "source": [
    "## Connecting to the database and creating buffer around basins"
   ]
  },
  {
   "cell_type": "code",
   "execution_count": 3,
   "metadata": {},
   "outputs": [
    {
     "data": {
      "application/vnd.jupyter.widget-view+json": {
       "model_id": "3005bfbbb0724efa988f6f79cc426c13",
       "version_major": 2,
       "version_minor": 0
      },
      "text/html": [
       "<p>Failed to display Jupyter Widget of type <code>Figure</code>.</p>\n",
       "<p>\n",
       "  If you're reading this message in the Jupyter Notebook or JupyterLab Notebook, it may mean\n",
       "  that the widgets JavaScript is still loading. If this message persists, it\n",
       "  likely means that the widgets JavaScript library is either not installed or\n",
       "  not enabled. See the <a href=\"https://ipywidgets.readthedocs.io/en/stable/user_install.html\">Jupyter\n",
       "  Widgets Documentation</a> for setup instructions.\n",
       "</p>\n",
       "<p>\n",
       "  If you're reading this message in another frontend (for example, a static\n",
       "  rendering on GitHub or <a href=\"https://nbviewer.jupyter.org/\">NBViewer</a>),\n",
       "  it may mean that your frontend doesn't currently support widgets.\n",
       "</p>\n"
      ],
      "text/plain": [
       "Figure()"
      ]
     },
     "metadata": {},
     "output_type": "display_data"
    }
   ],
   "source": [
    "try : \n",
    "    conn = db.connect(\"dbname={} user={} host={} password={}\".format(credentials['database'],\n",
    "                                                                     credentials['username'],\n",
    "                                                                     credentials['host'],\n",
    "                                                                     credentials['password']\n",
    "                                                                    )\n",
    "                     )\n",
    "except :\n",
    "    print(\"Unable to connect\")\n",
    "    \n",
    "cursor = conn.cursor()\n",
    "\n",
    "# Hardcoding tables where the stations and basins were stored. These should already exist in the database.\n",
    "schema = 'basins'\n",
    "basinsTable = 'results32'\n",
    "stationsTable = 'stations'\n",
    "\n",
    "#Table where the buffered basins will be stored\n",
    "resultsTable = 'bufferbasins'\n",
    "\n",
    "#Getting epsg number for the basins in basinsTable\n",
    "#The resulting epsg number should be a projected coordinate system with meters as the unit.\n",
    "cursor.execute(sql.SQL(\"SELECT ST_SRID(a.basin) FROM {}.{} AS a WHERE sid = 1\").format(sql.Identifier(schema),sql.Identifier(basinsTable)))\n",
    "epsg_num = cursor.fetchone()[0]\n",
    "conn.commit()\n",
    "\n",
    "#Creating buffer around existing basins\n",
    "bufferDistance = float(30000) #in meters\n",
    "\n",
    "cursor.execute(sql.SQL(''' DROP TABLE IF EXISTS {0}.{1};\n",
    "                           CREATE TABLE {0}.{1}(sid SERIAL PRIMARY KEY,\n",
    "                                              station_id INTEGER UNIQUE ,\n",
    "                                              station_name TEXT  UNIQUE ,\n",
    "                                              buffer GEOMETRY(POLYGON,%s)\n",
    "                                              );\n",
    "                           \n",
    "                           INSERT INTO {0}.{1}(station_id,station_name,buffer)\n",
    "                           SELECT a.station_id,a.station_name,ST_Expand(a.basin,%s) \n",
    "                           FROM {0}.{2} AS a;\n",
    "                           \n",
    "                           SELECT a.station_name,ST_AsText(ST_Transform(a.buffer,4326)) FROM {0}.{1} AS a;\n",
    "                           ''').format(sql.Identifier(schema),    #0\n",
    "                                   sql.Identifier(resultsTable),  #1\n",
    "                                   sql.Identifier(basinsTable) ), #2\n",
    "                    (epsg_num,bufferDistance)\n",
    "                   );\n",
    "\n",
    "#Looping through all created buffers and storing polygons as WKT\n",
    "rows = cursor.fetchall()\n",
    "basin_polygons = {}\n",
    "for row in rows:\n",
    "    basin_polygons[row[0]] = row[1]\n",
    "    \n",
    "#Displaying polygons in gmaps. They need to be stored as a FeatureCollection\n",
    "cursor.execute(\"\"\" SELECT json_build_object(\n",
    "                    'type', 'FeatureCollection',\n",
    "\n",
    "                    'features', json_agg(\n",
    "                        json_build_object(\n",
    "                            'type',       'Feature',\n",
    "                            'label',       station_name,\n",
    "                            'geometry',   ST_AsGeoJSON(ST_ForceRHR(st_transform(buffer,4326)))::json,\n",
    "                            'properties', jsonb_set(row_to_json(bufferbasins)::jsonb,'{buffer}','0',false)                            \n",
    "                             )\n",
    "                        )\n",
    "                   )\n",
    "                    FROM basins.bufferbasins;\n",
    "               \"\"\"\n",
    "              )\n",
    "\n",
    "\n",
    "feature_collection=cursor.fetchone()[0]\n",
    "buffer_layer = gmaps.geojson_layer(feature_collection)\n",
    "\n",
    "fig = gmaps.figure()\n",
    "fig.add_layer(buffer_layer)\n",
    "\n",
    "fig"
   ]
  },
  {
   "cell_type": "markdown",
   "metadata": {},
   "source": [
    "## Finding metno stations within the buffer\n",
    "\n",
    "Here, we first find if there are any stations within or near the basin according to the buffer defined in the above cell.\n",
    "\n",
    "In order to get a better idea on the parameters of the search please refer to the [sources](https://data.met.no/reference#!/sources/getSources) section of _frost.met.no_"
   ]
  },
  {
   "cell_type": "code",
   "execution_count": 4,
   "metadata": {},
   "outputs": [
    {
     "name": "stdout",
     "output_type": "stream",
     "text": [
      "Stations near Storgama v. dam: 13\n",
      "Stations near Birkenes: 30\n",
      "Stations near Langtjern, utløp: 18\n",
      "Stations near Kårvatn: 11\n",
      "Stations near Øygardsbekken: 34\n",
      "[[58.87, 9.0263], [59.0523, 8.6537], [59.0257, 8.5187], [59.2647, 8.7686], [59.1482, 8.7742], [58.8037, 9.098], [58.88, 9.02], [58.7938, 8.2295], [58.8856, 8.9486], [58.9032, 8.562], [59.1075, 9.0475], [59.0095, 8.2735], [58.851, 9.1197], [58.34, 8.5225], [58.633, 8.2888], [58.33, 8.23], [58.4213, 8.2893], [58.5, 8.65], [58.58, 7.82], [58.1302, 8.0947], [58.2, 8.0767], [58.3085, 7.8125], [58.15, 7.82], [58.23, 8.38], [58.1813, 8.0915], [58.2153, 7.89], [58.6007, 8.4162], [58.1505, 8.0527], [58.6042, 8.4042], [58.4887, 8.3445], [58.1095, 7.9383], [58.2968, 8.462], [58.45, 7.92], [58.1412, 7.9397], [58.5967, 8.717], [58.1995, 8.1865], [58.4613, 8.7228], [58.1427, 7.9733], [58.1717, 8.019], [58.5158, 8.7028], [58.5234, 8.0392], [58.1457, 7.9968], [58.1555, 7.9993], [60.2685, 9.6923], [60.238, 9.9267], [60.137, 9.5958], [60.2588, 9.8453], [60.3667, 9.186], [60.383, 9.605], [60.6197, 9.7238], [60.43, 9.47], [60.1088, 10.2948], [60.08, 10.2], [60.2225, 9.8408], [60.18, 9.6], [60.1665, 10.2478], [60.2475, 9.3443], [60.632, 9.8953], [60.1403, 10.2662], [60.17, 10.25], [60.1357, 9.4388], [62.69, 9.1], [62.9847, 8.6897], [63.038, 9.2205], [62.6393, 9.5505], [62.5818, 9.2136], [62.6708, 9.1967], [63.0493, 9.0878], [62.722, 8.7753], [62.6855, 8.4219], [62.6352, 9.392], [62.675, 8.5588], [58.8185, 5.9202], [58.6842, 5.9847], [58.755, 6.0135], [58.507, 6.5045], [58.73, 5.65], [58.6947, 5.6418], [58.8662, 5.7592], [58.85, 5.67], [58.4117, 6.657], [58.4727, 6.4062], [58.8817, 5.6117], [58.8842, 5.7183], [58.5603, 6.0762], [58.8743, 5.665], [58.63, 6.08], [58.8642, 5.9622], [58.62, 5.65], [58.45, 6], [58.7605, 5.6505], [58.8843, 5.637], [58.3798, 6.1937], [58.6265, 6.4867], [58.35, 6.3], [58.8077, 6.243], [58.8286, 6.0553], [58.858, 5.6468], [58.6833, 5.9877], [58.5505, 5.6815], [58.4353, 5.8718], [58.7645, 6.3675], [58.46, 6.56], [58.3702, 6.6315], [58.736, 5.7402], [58.87, 5.73]]\n"
     ]
    },
    {
     "data": {
      "application/vnd.jupyter.widget-view+json": {
       "model_id": "f05ba69a3c9a4568a7039a93b0face93",
       "version_major": 2,
       "version_minor": 0
      },
      "text/html": [
       "<p>Failed to display Jupyter Widget of type <code>Figure</code>.</p>\n",
       "<p>\n",
       "  If you're reading this message in the Jupyter Notebook or JupyterLab Notebook, it may mean\n",
       "  that the widgets JavaScript is still loading. If this message persists, it\n",
       "  likely means that the widgets JavaScript library is either not installed or\n",
       "  not enabled. See the <a href=\"https://ipywidgets.readthedocs.io/en/stable/user_install.html\">Jupyter\n",
       "  Widgets Documentation</a> for setup instructions.\n",
       "</p>\n",
       "<p>\n",
       "  If you're reading this message in another frontend (for example, a static\n",
       "  rendering on GitHub or <a href=\"https://nbviewer.jupyter.org/\">NBViewer</a>),\n",
       "  it may mean that your frontend doesn't currently support widgets.\n",
       "</p>\n"
      ],
      "text/plain": [
       "Figure()"
      ]
     },
     "metadata": {},
     "output_type": "display_data"
    }
   ],
   "source": [
    "#datesToGet = '2007-01-01/2016-12-31'\n",
    "datesToGet = '2015-01-01/2017-01-29'\n",
    "stationsInBasin = {}\n",
    "dataInStations = {}\n",
    "\n",
    "for basin_name, polygon in basin_polygons.items() :\n",
    "    stationsDict, requestReply = metno.getStationsInPolygon(polygon,datesToGet)\n",
    "    stationsInBasin[basin_name] = stationsDict;\n",
    "    print(\"Stations near {}: {}\".format(basin_name, len(stationsDict) ) )\n",
    "    stationIds = ','.join(i['id'] for i in stationsDict.values())\n",
    "    dataInStations[basin_name] = metno.listAllTimeseries(stationIds,datesToGet)\n",
    "    \n",
    "#Displaying stations\n",
    "cursor.execute(\"\"\" SELECT json_build_object(\n",
    "                    'type', 'FeatureCollection',\n",
    "\n",
    "                    'features', json_agg(\n",
    "                        json_build_object(\n",
    "                            'type',       'Feature',\n",
    "                            'label',       station_name,\n",
    "                            'geometry',   ST_AsGeoJSON(ST_ForceRHR(st_transform(basin,4326)))::json,\n",
    "                            'properties', jsonb_set(row_to_json(results32)::jsonb,'{basin}','0',false)\n",
    "                             )\n",
    "                        )\n",
    "                   )\n",
    "                    FROM basins.results32;\n",
    "               \"\"\"\n",
    "              )\n",
    "\n",
    "\n",
    "layer=cursor.fetchone()[0]\n",
    "fig = gmaps.figure()\n",
    "\n",
    "basin_layer = gmaps.geojson_layer(layer)\n",
    "fig.add_layer(basin_layer)\n",
    "\n",
    "\n",
    "allStations = []\n",
    "for key,value in stationsInBasin.items() :\n",
    "    for k, v in value.items() :\n",
    "        allStations.append( {\"name\" : k, \"location\" : v['coordinates'][::-1], \"id\" : v['id']} )\n",
    "\n",
    "    \n",
    "station_locations = [station[\"location\"] for station in allStations]\n",
    "print(station_locations)\n",
    "info_box_template = \"\"\"\n",
    "<dl>\n",
    "<dt>Met station</dt><dd>{name}</dd>\n",
    "<dt>id</dt><dd>{id}</dd>\n",
    "</dl>\n",
    "\"\"\"                                                \n",
    "station_info = [info_box_template.format(**station) for station in allStations]                                                 \n",
    "marker_layer = gmaps.marker_layer(station_locations, info_box_content=station_info)\n",
    "fig.add_layer(marker_layer)\n",
    "\n",
    "fig"
   ]
  },
  {
   "cell_type": "markdown",
   "metadata": {},
   "source": [
    "## Downloading data for a given station\n",
    "\n",
    "Selecting basin to download data for."
   ]
  },
  {
   "cell_type": "code",
   "execution_count": 5,
   "metadata": {},
   "outputs": [],
   "source": [
    "w = widgets.Dropdown(\n",
    "               options= [i for i in stationsInBasin],\n",
    "               value = sorted(list(stationsInBasin.keys()))[0],\n",
    "               description='Basin',\n",
    "               disabled=False,\n",
    "               )"
   ]
  },
  {
   "cell_type": "code",
   "execution_count": 6,
   "metadata": {},
   "outputs": [
    {
     "data": {
      "application/vnd.jupyter.widget-view+json": {
       "model_id": "fbb70acffefd45e78fd82180fc0cba14",
       "version_major": 2,
       "version_minor": 0
      },
      "text/html": [
       "<p>Failed to display Jupyter Widget of type <code>Dropdown</code>.</p>\n",
       "<p>\n",
       "  If you're reading this message in the Jupyter Notebook or JupyterLab Notebook, it may mean\n",
       "  that the widgets JavaScript is still loading. If this message persists, it\n",
       "  likely means that the widgets JavaScript library is either not installed or\n",
       "  not enabled. See the <a href=\"https://ipywidgets.readthedocs.io/en/stable/user_install.html\">Jupyter\n",
       "  Widgets Documentation</a> for setup instructions.\n",
       "</p>\n",
       "<p>\n",
       "  If you're reading this message in another frontend (for example, a static\n",
       "  rendering on GitHub or <a href=\"https://nbviewer.jupyter.org/\">NBViewer</a>),\n",
       "  it may mean that your frontend doesn't currently support widgets.\n",
       "</p>\n"
      ],
      "text/plain": [
       "Dropdown(description='Basin', index=1, options=('Storgama v. dam', 'Birkenes', 'Langtjern, utløp', 'Kårvatn', 'Øygardsbekken'), value='Birkenes')"
      ]
     },
     "metadata": {},
     "output_type": "display_data"
    },
    {
     "data": {
      "application/javascript": [
       "IPython.notebook.execute_cells([10])"
      ],
      "text/plain": [
       "<IPython.core.display.Javascript object>"
      ]
     },
     "metadata": {},
     "output_type": "display_data"
    }
   ],
   "source": [
    "display(w)\n",
    "w.observe(on_change)"
   ]
  },
  {
   "cell_type": "code",
   "execution_count": 9,
   "metadata": {},
   "outputs": [
    {
     "name": "stdout",
     "output_type": "stream",
     "text": [
      "Getting data for: Langtjern, utløp\n",
      "{'E16 BEGNADALEN': {'coordinates': [9.8953, 60.632], 'id': 'SN22690'},\n",
      " 'EGGEDAL III': {'coordinates': [9.3443, 60.2475], 'id': 'SN26380'},\n",
      " 'FLÅ': {'coordinates': [9.47, 60.43], 'id': 'SN24800'},\n",
      " 'FV211 HAGLEBU': {'coordinates': [9.186, 60.3667], 'id': 'SN26450'},\n",
      " 'GRIMELI I KRØDSHERAD': {'coordinates': [9.5958, 60.137], 'id': 'SN24600'},\n",
      " 'GULSVIK II': {'coordinates': [9.605, 60.383], 'id': 'SN24710'},\n",
      " 'HEDAL I VALDRES II': {'coordinates': [9.7238, 60.6197], 'id': 'SN22730'},\n",
      " 'HOLE': {'coordinates': [10.2948, 60.1088], 'id': 'SN20250'},\n",
      " 'HOLE - RØYSE': {'coordinates': [10.2, 60.08], 'id': 'SN20260'},\n",
      " 'HØNEFOSS': {'coordinates': [10.25, 60.17], 'id': 'SN20290'},\n",
      " 'HØNEFOSS - HVERVEN': {'coordinates': [10.2662, 60.1403], 'id': 'SN20280'},\n",
      " 'HØNEFOSS - HØYBY': {'coordinates': [10.2478, 60.1665], 'id': 'SN20301'},\n",
      " 'NORESUND': {'coordinates': [9.6, 60.18], 'id': 'SN24650'},\n",
      " 'RV7 RALLERUD': {'coordinates': [9.8453, 60.2588], 'id': 'SN24240'},\n",
      " 'RV7 SOKNA': {'coordinates': [9.8408, 60.2225], 'id': 'SN24230'},\n",
      " 'RV7 ØVRE KRØDSHERAD': {'coordinates': [9.6923, 60.2685], 'id': 'SN24670'},\n",
      " 'SIGDAL - NEDRE EGGEDAL': {'coordinates': [9.4388, 60.1357], 'id': 'SN26350'},\n",
      " 'SOKNA II': {'coordinates': [9.9267, 60.238], 'id': 'SN24210'}}\n"
     ]
    },
    {
     "data": {
      "application/vnd.jupyter.widget-view+json": {
       "model_id": "f8b147efe4aa44a8b58373fed059aadf",
       "version_major": 2,
       "version_minor": 0
      },
      "text/html": [
       "<p>Failed to display Jupyter Widget of type <code>Box</code>.</p>\n",
       "<p>\n",
       "  If you're reading this message in the Jupyter Notebook or JupyterLab Notebook, it may mean\n",
       "  that the widgets JavaScript is still loading. If this message persists, it\n",
       "  likely means that the widgets JavaScript library is either not installed or\n",
       "  not enabled. See the <a href=\"https://ipywidgets.readthedocs.io/en/stable/user_install.html\">Jupyter\n",
       "  Widgets Documentation</a> for setup instructions.\n",
       "</p>\n",
       "<p>\n",
       "  If you're reading this message in another frontend (for example, a static\n",
       "  rendering on GitHub or <a href=\"https://nbviewer.jupyter.org/\">NBViewer</a>),\n",
       "  it may mean that your frontend doesn't currently support widgets.\n",
       "</p>\n"
      ],
      "text/plain": [
       "Box(children=(SelectMultiple(description='Data', layout=Layout(align_items='stretch', min_height='250px', width='auto'), options=('accumulated(precipitation_amount) / PT00H / SN20301', 'accumulated(precipitation_amount) / PT00H / SN24710', 'air_pressure_at_sea_level / PT00H / SN20301', 'air_pressure_at_sea_level / PT00H / SN20301', 'air_pressure_at_sea_level_qnh / PT00H / SN20301', 'air_temperature / PT18H / SN20280', 'air_temperature / PT18H / SN20301', 'air_temperature / PT18H / SN20301', 'air_temperature / PT18H / SN22690', 'air_temperature / PT18H / SN24210', 'air_temperature / PT18H / SN24230', 'air_temperature / PT18H / SN24240', 'air_temperature / PT18H / SN24670', 'air_temperature / PT18H / SN24710', 'air_temperature / PT18H / SN26350', 'air_temperature / PT18H / SN26450', 'dew_point_temperature / PT00H / SN20280', 'dew_point_temperature / PT00H / SN20301', 'dew_point_temperature / PT00H / SN22690', 'dew_point_temperature / PT00H / SN24210', 'dew_point_temperature / PT00H / SN24230', 'dew_point_temperature / PT00H / SN24240', 'dew_point_temperature / PT00H / SN24670', 'dew_point_temperature / PT00H / SN24710', 'dew_point_temperature / PT00H / SN26350', 'dew_point_temperature / PT00H / SN26450', 'humidity_mixing_ratio / PT00H / SN20301', 'integral_of_deficit(mean(air_temperature P1D) P1M 17.0) / PT00H / SN20280', 'integral_of_deficit(mean(air_temperature P1D) P1M 17.0) / PT00H / SN20301', 'integral_of_deficit(mean(air_temperature P1D) P1M 17.0) / PT00H / SN24210', 'integral_of_deficit(mean(air_temperature P1D) P1M 17.0) / PT00H / SN24710', 'integral_of_deficit(mean(air_temperature P1D) P1M 17.0) / PT00H / SN26350', 'integral_of_deficit(mean(air_temperature P1D) P1Y 17.0) / PT00H / SN20280', 'integral_of_deficit(mean(air_temperature P1D) P1Y 17.0) / PT00H / SN20301', 'integral_of_deficit(mean(air_temperature P1D) P1Y 17.0) / PT00H / SN24210', 'integral_of_deficit(mean(air_temperature P1D) P1Y 17.0) / PT00H / SN24710', 'integral_of_deficit(mean(air_temperature P1D) P1Y 17.0) / PT00H / SN26350', 'integral_of_deficit(mean(air_temperature P1D) P3M 17.0) / PT00H / SN20280', 'integral_of_deficit(mean(air_temperature P1D) P3M 17.0) / PT00H / SN20301', 'integral_of_deficit(mean(air_temperature P1D) P3M 17.0) / PT00H / SN24210', 'integral_of_deficit(mean(air_temperature P1D) P3M 17.0) / PT00H / SN24710', 'integral_of_deficit(mean(air_temperature P1D) P3M 17.0) / PT00H / SN26350', 'integral_of_deficit(mean(air_temperature P1D) P6M 17.0) / PT00H / SN20280', 'integral_of_deficit(mean(air_temperature P1D) P6M 17.0) / PT00H / SN20301', 'integral_of_deficit(mean(air_temperature P1D) P6M 17.0) / PT00H / SN24210', 'integral_of_deficit(mean(air_temperature P1D) P6M 17.0) / PT00H / SN24710', 'integral_of_deficit(mean(air_temperature P1D) P6M 17.0) / PT00H / SN26350', 'integral_of_deficit(mean(air_temperature PT1H) P1D 17.0) / PT06H / SN20280', 'integral_of_deficit(mean(air_temperature PT1H) P1D 17.0) / PT06H / SN20301', 'integral_of_deficit(mean(air_temperature PT1H) P1D 17.0) / PT06H / SN24210', 'integral_of_deficit(mean(air_temperature PT1H) P1D 17.0) / PT06H / SN24240', 'integral_of_deficit(mean(air_temperature PT1H) P1D 17.0) / PT06H / SN24710', 'integral_of_deficit(mean(air_temperature PT1H) P1D 17.0) / PT06H / SN26350', 'integral_of_excess(mean(air_temperature P1D) P1D 0.0) / PT06H / SN20280', 'integral_of_excess(mean(air_temperature P1D) P1D 0.0) / PT06H / SN20301', 'integral_of_excess(mean(air_temperature P1D) P1D 0.0) / PT06H / SN24210', 'integral_of_excess(mean(air_temperature P1D) P1D 0.0) / PT06H / SN24240', 'integral_of_excess(mean(air_temperature P1D) P1D 0.0) / PT06H / SN24710', 'integral_of_excess(mean(air_temperature P1D) P1D 0.0) / PT06H / SN26350', 'integral_of_excess(mean(air_temperature P1D) P1D 5.0) / PT06H / SN20280', 'integral_of_excess(mean(air_temperature P1D) P1D 5.0) / PT06H / SN20301', 'integral_of_excess(mean(air_temperature P1D) P1D 5.0) / PT06H / SN24210', 'integral_of_excess(mean(air_temperature P1D) P1D 5.0) / PT06H / SN24240', 'integral_of_excess(mean(air_temperature P1D) P1D 5.0) / PT06H / SN24710', 'integral_of_excess(mean(air_temperature P1D) P1D 5.0) / PT06H / SN26350', 'integral_of_excess(mean(air_temperature P1D) P1M 0.0) / PT00H / SN20280', 'integral_of_excess(mean(air_temperature P1D) P1M 0.0) / PT00H / SN20301', 'integral_of_excess(mean(air_temperature P1D) P1M 0.0) / PT00H / SN24210', 'integral_of_excess(mean(air_temperature P1D) P1M 0.0) / PT00H / SN24710', 'integral_of_excess(mean(air_temperature P1D) P1M 0.0) / PT00H / SN26350', 'integral_of_excess(mean(air_temperature P1D) P1M 5.0) / PT00H / SN20280', 'integral_of_excess(mean(air_temperature P1D) P1M 5.0) / PT00H / SN20301', 'integral_of_excess(mean(air_temperature P1D) P1M 5.0) / PT00H / SN24210', 'integral_of_excess(mean(air_temperature P1D) P1M 5.0) / PT00H / SN24710', 'integral_of_excess(mean(air_temperature P1D) P1M 5.0) / PT00H / SN26350', 'max(air_pressure_at_sea_level P1D) / PT06H / SN20301', 'max(air_pressure_at_sea_level P1M) / PT00H / SN20301', 'max(air_temperature P1D) / PT00H / SN20280', 'max(air_temperature P1D) / PT00H / SN20301', 'max(air_temperature P1D) / PT00H / SN24210', 'max(air_temperature P1D) / PT00H / SN24710', 'max(air_temperature P1D) / PT00H / SN26350', 'max(air_temperature P1D) / PT18H / SN20280', 'max(air_temperature P1D) / PT18H / SN20301', 'max(air_temperature P1D) / PT18H / SN24210', 'max(air_temperature P1D) / PT18H / SN24710', 'max(air_temperature P1D) / PT18H / SN26350', 'max(air_temperature P1M) / PT18H / SN20280', 'max(air_temperature P1M) / PT18H / SN20301', 'max(air_temperature P1M) / PT18H / SN24210', 'max(air_temperature P1M) / PT18H / SN24710', 'max(air_temperature P1M) / PT18H / SN26350', 'max(air_temperature P1Y) / PT18H / SN20280', 'max(air_temperature P1Y) / PT18H / SN20301', 'max(air_temperature P1Y) / PT18H / SN24210', 'max(air_temperature P1Y) / PT18H / SN24710', 'max(air_temperature P1Y) / PT18H / SN26350', 'max(air_temperature P3M) / PT18H / SN20280', 'max(air_temperature P3M) / PT18H / SN20301', 'max(air_temperature P3M) / PT18H / SN24210', 'max(air_temperature P3M) / PT18H / SN24710', 'max(air_temperature P3M) / PT18H / SN26350', 'max(air_temperature P6M) / PT18H / SN20280', 'max(air_temperature P6M) / PT18H / SN20301', 'max(air_temperature P6M) / PT18H / SN24210', 'max(air_temperature P6M) / PT18H / SN24710', 'max(air_temperature P6M) / PT18H / SN26350', 'max(air_temperature PT12H) / PT18H / SN20280', 'max(air_temperature PT12H) / PT18H / SN20301', 'max(air_temperature PT12H) / PT18H / SN24210', 'max(air_temperature PT12H) / PT18H / SN24710', 'max(air_temperature PT12H) / PT18H / SN26350', 'max(air_temperature PT1H) / PT18H / SN20280', 'max(air_temperature PT1H) / PT18H / SN20301', 'max(air_temperature PT1H) / PT18H / SN24210', 'max(air_temperature PT1H) / PT18H / SN24710', 'max(air_temperature PT1H) / PT18H / SN26350', 'max(max(wind_speed P1D) P1M) / PT00H / SN20301', 'max(max(wind_speed P1D) P1M) / PT00H / SN24710', 'max(max(wind_speed PT1H) P1D) / PT06H / SN20301', 'max(max(wind_speed PT1H) P1D) / PT06H / SN24710', 'max(relative_humidity P1D) / PT06H / SN20280', 'max(relative_humidity P1D) / PT06H / SN20301', 'max(relative_humidity P1D) / PT06H / SN24210', 'max(relative_humidity P1D) / PT06H / SN24710', 'max(relative_humidity P1D) / PT06H / SN26350', 'max(relative_humidity P1M) / PT00H / SN20280', 'max(relative_humidity P1M) / PT00H / SN20301', 'max(relative_humidity P1M) / PT00H / SN24210', 'max(relative_humidity P1M) / PT00H / SN24710', 'max(relative_humidity P1M) / PT00H / SN26350', 'max(relative_humidity PT1H) / PT00H / SN20280', 'max(relative_humidity PT1H) / PT00H / SN24210', 'max(snow_coverage_type P1M) / PT00H / SN20250', 'max(snow_coverage_type P1M) / PT00H / SN22730', 'max(snow_coverage_type P1M) / PT00H / SN24210', 'max(snow_coverage_type P1M) / PT00H / SN24600', 'max(snow_coverage_type P1M) / PT00H / SN26380', 'max(sum(precipitation_amount P1D) P1M) / PT06H / SN20250', 'max(sum(precipitation_amount P1D) P1M) / PT06H / SN20280', 'max(sum(precipitation_amount P1D) P1M) / PT06H / SN20301', 'max(sum(precipitation_amount P1D) P1M) / PT06H / SN22730', 'max(sum(precipitation_amount P1D) P1M) / PT06H / SN24210', 'max(sum(precipitation_amount P1D) P1M) / PT06H / SN24600', 'max(sum(precipitation_amount P1D) P1M) / PT06H / SN24710', 'max(sum(precipitation_amount P1D) P1M) / PT06H / SN26350', 'max(sum(precipitation_amount P1D) P1M) / PT06H / SN26380', 'max(surface_air_pressure P1D) / PT06H / SN20301', 'max(surface_air_pressure P1M) / PT00H / SN20301', 'max(surface_snow_thickness P1M) / PT00H / SN20250', 'max(surface_snow_thickness P1M) / PT00H / SN22730', 'max(surface_snow_thickness P1M) / PT00H / SN24210', 'max(surface_snow_thickness P1M) / PT00H / SN24600', 'max(surface_snow_thickness P1M) / PT00H / SN24710', 'max(surface_snow_thickness P1M) / PT00H / SN26380', 'max(wind_speed P1D) / PT06H / SN20301', 'max(wind_speed P1D) / PT06H / SN24710', 'max(wind_speed P1M) / PT00H / SN20301', 'max(wind_speed P1M) / PT00H / SN24710', 'max(wind_speed PT1H) / PT00H / SN20301', 'max(wind_speed PT1H) / PT00H / SN24710', 'max(wind_speed_of_gust P1D) / PT06H / SN20301', 'max(wind_speed_of_gust P1D) / PT06H / SN24710', 'max(wind_speed_of_gust P1M) / PT00H / SN20301', 'max(wind_speed_of_gust P1M) / PT00H / SN24710', 'max(wind_speed_of_gust PT10M) / PT00H / SN20301', 'max(wind_speed_of_gust PT1H) / PT00H / SN20301', 'max(wind_speed_of_gust PT1H) / PT00H / SN24710', 'max_wind_speed(wind_from_direction PT1H) / PT00H / SN20301', 'max_wind_speed(wind_from_direction PT1H) / PT00H / SN24710', 'mean(air_pressure_at_sea_level P1D) / PT06H / SN20301', 'mean(air_pressure_at_sea_level P1M) / PT00H / SN20301', 'mean(air_temperature P1D) / PT06H / SN20280', 'mean(air_temperature P1D) / PT06H / SN20301', 'mean(air_temperature P1D) / PT06H / SN24210', 'mean(air_temperature P1D) / PT06H / SN24710', 'mean(air_temperature P1D) / PT06H / SN26350', 'mean(air_temperature P1D) / PT18H / SN20280', 'mean(air_temperature P1D) / PT18H / SN20301', 'mean(air_temperature P1D) / PT18H / SN24210', 'mean(air_temperature P1D) / PT18H / SN24240', 'mean(air_temperature P1D) / PT18H / SN24710', 'mean(air_temperature P1D) / PT18H / SN26350', 'mean(air_temperature P1M) / PT06H / SN20280', 'mean(air_temperature P1M) / PT06H / SN20301', 'mean(air_temperature P1M) / PT06H / SN24210', 'mean(air_temperature P1M) / PT06H / SN24710', 'mean(air_temperature P1M) / PT06H / SN26350', 'mean(air_temperature P1M) / PT18H / SN20280', 'mean(air_temperature P1M) / PT18H / SN20301', 'mean(air_temperature P1M) / PT18H / SN24210', 'mean(air_temperature P1M) / PT18H / SN24710', 'mean(air_temperature P1M) / PT18H / SN26350', 'mean(air_temperature P1Y) / PT18H / SN20301', 'mean(air_temperature P1Y) / PT18H / SN24710', 'mean(air_temperature P3M) / PT18H / SN20301', 'mean(air_temperature P3M) / PT18H / SN24710', 'mean(air_temperature P6M) / PT18H / SN20301', 'mean(air_temperature P6M) / PT18H / SN24710', 'mean(air_temperature PT1H) / PT18H / SN20280', 'mean(air_temperature PT1H) / PT18H / SN24210', 'mean(air_temperature_anomaly P1M 1961_1990) / PT18H / SN20301', 'mean(air_temperature_anomaly P1M 1961_1990) / PT18H / SN24710', 'mean(air_temperature_anomaly P1Y) / PT18H / SN20301', 'mean(air_temperature_anomaly P1Y) / PT18H / SN24710', 'mean(air_temperature_anomaly P3M) / PT18H / SN20301', 'mean(air_temperature_anomaly P3M) / PT18H / SN24710', 'mean(air_temperature_anomaly P6M) / PT18H / SN20301', 'mean(air_temperature_anomaly P6M) / PT18H / SN24710', 'mean(dew_point_temperature P1D) / PT06H / SN20280', 'mean(dew_point_temperature P1D) / PT06H / SN20301', 'mean(dew_point_temperature P1D) / PT06H / SN24210', 'mean(dew_point_temperature P1D) / PT06H / SN24710', 'mean(dew_point_temperature P1D) / PT06H / SN26350', 'mean(dew_point_temperature P1M) / PT00H / SN20280', 'mean(dew_point_temperature P1M) / PT00H / SN20301', 'mean(dew_point_temperature P1M) / PT00H / SN24210', 'mean(dew_point_temperature P1M) / PT00H / SN24710', 'mean(dew_point_temperature P1M) / PT00H / SN26350', 'mean(humidity_mixing_ratio P1M) / PT00H / SN20301', 'mean(max(air_temperature P1D) P1M) / PT18H / SN20280', 'mean(max(air_temperature P1D) P1M) / PT18H / SN20301', 'mean(max(air_temperature P1D) P1M) / PT18H / SN24210', 'mean(max(air_temperature P1D) P1M) / PT18H / SN24710', 'mean(max(air_temperature P1D) P1M) / PT18H / SN26350', 'mean(max(wind_speed P1D) P1M) / PT00H / SN20301', 'mean(max(wind_speed P1D) P1M) / PT00H / SN24710', 'mean(max(wind_speed PT1H) P1D) / PT06H / SN20301', 'mean(max(wind_speed PT1H) P1D) / PT06H / SN24710', 'mean(min(air_temperature P1D) P1M) / PT18H / SN20280', 'mean(min(air_temperature P1D) P1M) / PT18H / SN20301', 'mean(min(air_temperature P1D) P1M) / PT18H / SN24210', 'mean(min(air_temperature P1D) P1M) / PT18H / SN24710', 'mean(min(air_temperature P1D) P1M) / PT18H / SN26350', 'mean(relative_humidity P1D) / PT06H / SN20280', 'mean(relative_humidity P1D) / PT06H / SN20301', 'mean(relative_humidity P1D) / PT06H / SN24210', 'mean(relative_humidity P1D) / PT06H / SN24710', 'mean(relative_humidity P1D) / PT06H / SN26350', 'mean(relative_humidity P1M) / PT00H / SN20280', 'mean(relative_humidity P1M) / PT00H / SN20301', 'mean(relative_humidity P1M) / PT00H / SN24210', 'mean(relative_humidity P1M) / PT00H / SN24710', 'mean(relative_humidity P1M) / PT00H / SN26350', 'mean(relative_humidity PT1H) / PT00H / SN20280', 'mean(relative_humidity PT1H) / PT00H / SN24210', 'mean(snow_coverage_type P1M) / PT00H / SN20250', 'mean(snow_coverage_type P1M) / PT00H / SN22730', 'mean(snow_coverage_type P1M) / PT00H / SN24210', 'mean(snow_coverage_type P1M) / PT00H / SN24600', 'mean(snow_coverage_type P1M) / PT00H / SN26380', 'mean(soil_temperature PT1H) / PT00H / SN20280', 'mean(soil_temperature PT1H) / PT00H / SN20280', 'mean(soil_temperature PT1H) / PT00H / SN20280', 'mean(specific_humidity P1M) / PT00H / SN20301', 'mean(surface_air_pressure P1D) / PT06H / SN20301', 'mean(surface_air_pressure P1M) / PT00H / SN20301', 'mean(surface_downwelling_shortwave_flux_in_air PT1H) / PT00H / SN20280', 'mean(surface_snow_thickness P1M) / PT00H / SN20250', 'mean(surface_snow_thickness P1M) / PT00H / SN22730', 'mean(surface_snow_thickness P1M) / PT00H / SN24210', 'mean(surface_snow_thickness P1M) / PT00H / SN24600', 'mean(surface_snow_thickness P1M) / PT00H / SN24710', 'mean(surface_snow_thickness P1M) / PT00H / SN26380', 'mean(water_vapor_partial_pressure_in_air P1D) / PT00H / SN20280', 'mean(water_vapor_partial_pressure_in_air P1D) / PT00H / SN20301', 'mean(water_vapor_partial_pressure_in_air P1D) / PT00H / SN24210', 'mean(water_vapor_partial_pressure_in_air P1D) / PT00H / SN24710', 'mean(water_vapor_partial_pressure_in_air P1D) / PT00H / SN26350', 'mean(water_vapor_partial_pressure_in_air P1M) / PT00H / SN20280', 'mean(water_vapor_partial_pressure_in_air P1M) / PT00H / SN20301', 'mean(water_vapor_partial_pressure_in_air P1M) / PT00H / SN24210', 'mean(water_vapor_partial_pressure_in_air P1M) / PT00H / SN24710', 'mean(water_vapor_partial_pressure_in_air P1M) / PT00H / SN26350', 'mean(wind_speed P1D) / PT06H / SN20301', 'mean(wind_speed P1D) / PT06H / SN24710', 'mean(wind_speed P1M) / PT00H / SN20301', 'mean(wind_speed P1M) / PT00H / SN24710', 'mean(wind_speed_of_gust P1D) / PT06H / SN20301', 'mean(wind_speed_of_gust P1D) / PT06H / SN24710', 'mean(wind_speed_of_gust P1M) / PT00H / SN20301', 'mean(wind_speed_of_gust P1M) / PT00H / SN24710', 'mean_k(air_temperature P1D) / PT18H / SN20301', 'mean_k(air_temperature P1M) / PT18H / SN20301', 'min(air_pressure_at_sea_level P1D) / PT06H / SN20301', 'min(air_pressure_at_sea_level P1M) / PT00H / SN20301', 'min(air_temperature P1D) / PT00H / SN20280', 'min(air_temperature P1D) / PT00H / SN20301', 'min(air_temperature P1D) / PT00H / SN24210', 'min(air_temperature P1D) / PT00H / SN24710', 'min(air_temperature P1D) / PT00H / SN26350', 'min(air_temperature P1D) / PT18H / SN20280', 'min(air_temperature P1D) / PT18H / SN20301', 'min(air_temperature P1D) / PT18H / SN24210', 'min(air_temperature P1D) / PT18H / SN24710', 'min(air_temperature P1D) / PT18H / SN26350', 'min(air_temperature P1M) / PT18H / SN20280', 'min(air_temperature P1M) / PT18H / SN20301', 'min(air_temperature P1M) / PT18H / SN24210', 'min(air_temperature P1M) / PT18H / SN24710', 'min(air_temperature P1M) / PT18H / SN26350', 'min(air_temperature P1Y) / PT18H / SN20280', 'min(air_temperature P1Y) / PT18H / SN20301', 'min(air_temperature P1Y) / PT18H / SN24210', 'min(air_temperature P1Y) / PT18H / SN24710', 'min(air_temperature P1Y) / PT18H / SN26350', 'min(air_temperature P3M) / PT18H / SN20280', 'min(air_temperature P3M) / PT18H / SN20301', 'min(air_temperature P3M) / PT18H / SN24210', 'min(air_temperature P3M) / PT18H / SN24710', 'min(air_temperature P3M) / PT18H / SN26350', 'min(air_temperature P6M) / PT18H / SN20280', 'min(air_temperature P6M) / PT18H / SN20301', 'min(air_temperature P6M) / PT18H / SN24210', 'min(air_temperature P6M) / PT18H / SN24710', 'min(air_temperature P6M) / PT18H / SN26350', 'min(air_temperature PT12H) / PT18H / SN20280', 'min(air_temperature PT12H) / PT18H / SN20301', 'min(air_temperature PT12H) / PT18H / SN24210', 'min(air_temperature PT12H) / PT18H / SN24710', 'min(air_temperature PT12H) / PT18H / SN26350', 'min(air_temperature PT1H) / PT18H / SN20280', 'min(air_temperature PT1H) / PT18H / SN20301', 'min(air_temperature PT1H) / PT18H / SN24210', 'min(air_temperature PT1H) / PT18H / SN24710', 'min(air_temperature PT1H) / PT18H / SN26350', 'min(max(wind_speed P1D) P1M) / PT00H / SN20301', 'min(max(wind_speed P1D) P1M) / PT00H / SN24710', 'min(max(wind_speed PT1H) P1D) / PT06H / SN20301', 'min(max(wind_speed PT1H) P1D) / PT06H / SN24710', 'min(relative_humidity P1D) / PT06H / SN20280', 'min(relative_humidity P1D) / PT06H / SN20301', 'min(relative_humidity P1D) / PT06H / SN24210', 'min(relative_humidity P1D) / PT06H / SN24710', 'min(relative_humidity P1D) / PT06H / SN26350', 'min(relative_humidity P1M) / PT00H / SN20280', 'min(relative_humidity P1M) / PT00H / SN20301', 'min(relative_humidity P1M) / PT00H / SN24210', 'min(relative_humidity P1M) / PT00H / SN24710', 'min(relative_humidity P1M) / PT00H / SN26350', 'min(snow_coverage_type P1M) / PT00H / SN20250', 'min(snow_coverage_type P1M) / PT00H / SN22730', 'min(snow_coverage_type P1M) / PT00H / SN24210', 'min(snow_coverage_type P1M) / PT00H / SN24600', 'min(snow_coverage_type P1M) / PT00H / SN26380', 'min(surface_air_pressure P1D) / PT06H / SN20301', 'min(surface_air_pressure P1M) / PT00H / SN20301', 'min(surface_snow_thickness P1M) / PT00H / SN20250', 'min(surface_snow_thickness P1M) / PT00H / SN22730', 'min(surface_snow_thickness P1M) / PT00H / SN24210', 'min(surface_snow_thickness P1M) / PT00H / SN24600', 'min(surface_snow_thickness P1M) / PT00H / SN24710', 'min(surface_snow_thickness P1M) / PT00H / SN26380', 'min(wind_speed P1D) / PT06H / SN20301', 'min(wind_speed P1D) / PT06H / SN24710', 'min(wind_speed P1M) / PT00H / SN20301', 'min(wind_speed P1M) / PT00H / SN24710', 'min(wind_speed_of_gust P1D) / PT06H / SN20301', 'min(wind_speed_of_gust P1D) / PT06H / SN24710', 'min(wind_speed_of_gust P1M) / PT00H / SN20301', 'min(wind_speed_of_gust P1M) / PT00H / SN24710', 'number_of_days_gte(sum(precipitation_amount P1D) P1M 1.0) / PT06H / SN20250', 'number_of_days_gte(sum(precipitation_amount P1D) P1M 1.0) / PT06H / SN20280', 'number_of_days_gte(sum(precipitation_amount P1D) P1M 1.0) / PT06H / SN20301', 'number_of_days_gte(sum(precipitation_amount P1D) P1M 1.0) / PT06H / SN22730', 'number_of_days_gte(sum(precipitation_amount P1D) P1M 1.0) / PT06H / SN24210', 'number_of_days_gte(sum(precipitation_amount P1D) P1M 1.0) / PT06H / SN24600', 'number_of_days_gte(sum(precipitation_amount P1D) P1M 1.0) / PT06H / SN24710', 'number_of_days_gte(sum(precipitation_amount P1D) P1M 1.0) / PT06H / SN26350', 'number_of_days_gte(sum(precipitation_amount P1D) P1M 1.0) / PT06H / SN26380', 'over_time(precipitation_type_primary_significance P1D) / PT06H / SN20250', 'over_time(precipitation_type_primary_significance P1D) / PT06H / SN22730', 'over_time(precipitation_type_primary_significance P1D) / PT06H / SN24210', 'over_time(precipitation_type_primary_significance P1D) / PT06H / SN24600', 'over_time(precipitation_type_primary_significance P1D) / PT06H / SN26380', 'over_time(precipitation_type_primary_significance_intensity P1D) / PT00H / SN20250', 'over_time(precipitation_type_primary_significance_intensity P1D) / PT00H / SN22730', 'over_time(precipitation_type_primary_significance_intensity P1D) / PT00H / SN24210', 'over_time(precipitation_type_primary_significance_intensity P1D) / PT00H / SN24600', 'over_time(precipitation_type_primary_significance_intensity P1D) / PT00H / SN26380', 'over_time(precipitation_type_secondary_significance P1D) / PT00H / SN20250', 'over_time(precipitation_type_secondary_significance P1D) / PT00H / SN22730', 'over_time(precipitation_type_secondary_significance P1D) / PT00H / SN24210', 'over_time(precipitation_type_secondary_significance P1D) / PT00H / SN24600', 'over_time(precipitation_type_secondary_significance P1D) / PT00H / SN26380', 'over_time(precipitation_type_secondary_significance_intensity P1D) / PT00H / SN20250', 'over_time(precipitation_type_secondary_significance_intensity P1D) / PT00H / SN22730', 'over_time(precipitation_type_secondary_significance_intensity P1D) / PT00H / SN24210', 'over_time(precipitation_type_secondary_significance_intensity P1D) / PT00H / SN24600', 'over_time(precipitation_type_secondary_significance_intensity P1D) / PT00H / SN26380', 'over_time(precipitation_type_tertiary_significance P1D) / PT00H / SN22730', 'over_time(precipitation_type_tertiary_significance_intensity P1D) / PT00H / SN22730', 'over_time(sum(time_of_maximum_precipitation_amount P1D) P1M) / PT06H / SN20250', 'over_time(sum(time_of_maximum_precipitation_amount P1D) P1M) / PT06H / SN20280', 'over_time(sum(time_of_maximum_precipitation_amount P1D) P1M) / PT06H / SN20301', 'over_time(sum(time_of_maximum_precipitation_amount P1D) P1M) / PT06H / SN22730', 'over_time(sum(time_of_maximum_precipitation_amount P1D) P1M) / PT06H / SN24210', 'over_time(sum(time_of_maximum_precipitation_amount P1D) P1M) / PT06H / SN24600', 'over_time(sum(time_of_maximum_precipitation_amount P1D) P1M) / PT06H / SN24710', 'over_time(sum(time_of_maximum_precipitation_amount P1D) P1M) / PT06H / SN26350', 'over_time(sum(time_of_maximum_precipitation_amount P1D) P1M) / PT06H / SN26380', 'over_time(tendency_of_surface_air_pressure PT1H) / PT00H / SN20301', 'over_time(time_of_maximum_air_temperature P1M) / PT18H / SN20280', 'over_time(time_of_maximum_air_temperature P1M) / PT18H / SN20301', 'over_time(time_of_maximum_air_temperature P1M) / PT18H / SN24210', 'over_time(time_of_maximum_air_temperature P1M) / PT18H / SN24710', 'over_time(time_of_maximum_air_temperature P1M) / PT18H / SN26350', 'over_time(time_of_maximum_wind_speed P1M) / PT00H / SN20301', 'over_time(time_of_maximum_wind_speed P1M) / PT00H / SN24710', 'over_time(time_of_maximum_wind_speed PT1H) / PT00H / SN20301', 'over_time(time_of_maximum_wind_speed PT1H) / PT00H / SN24710', 'over_time(time_of_maximum_wind_speed_of_gust PT1H) / PT00H / SN20301', 'over_time(time_of_maximum_wind_speed_of_gust PT1H) / PT00H / SN24710', 'over_time(time_of_minimum_air_temperature P1M) / PT18H / SN20280', 'over_time(time_of_minimum_air_temperature P1M) / PT18H / SN20301', 'over_time(time_of_minimum_air_temperature P1M) / PT18H / SN24210', 'over_time(time_of_minimum_air_temperature P1M) / PT18H / SN24710', 'over_time(time_of_minimum_air_temperature P1M) / PT18H / SN26350', 'relative_humidity / PT00H / SN20280', 'relative_humidity / PT00H / SN20301', 'relative_humidity / PT00H / SN20301', 'relative_humidity / PT00H / SN22690', 'relative_humidity / PT00H / SN24210', 'relative_humidity / PT00H / SN24230', 'relative_humidity / PT00H / SN24240', 'relative_humidity / PT00H / SN24670', 'relative_humidity / PT00H / SN24710', 'relative_humidity / PT00H / SN26350', 'relative_humidity / PT00H / SN26450', 'snow_coverage_type / PT00H / SN20250', 'snow_coverage_type / PT00H / SN22730', 'snow_coverage_type / PT00H / SN24210', 'snow_coverage_type / PT00H / SN24600', 'snow_coverage_type / PT00H / SN26380', 'snow_coverage_type / PT06H / SN20250', 'snow_coverage_type / PT06H / SN22730', 'snow_coverage_type / PT06H / SN24210', 'snow_coverage_type / PT06H / SN24600', 'snow_coverage_type / PT06H / SN26380', 'specific_humidity / PT06H / SN20301', 'state_of_ground / PT06H / SN20250', 'state_of_ground / PT06H / SN20250', 'state_of_ground / PT06H / SN24210', 'state_of_ground / PT06H / SN24210', 'state_of_ground / PT06H / SN24600', 'state_of_ground / PT06H / SN24600', 'sum(precipitation_amount P1D) / PT06H / SN20250', 'sum(precipitation_amount P1D) / PT06H / SN20250', 'sum(precipitation_amount P1D) / PT06H / SN20280', 'sum(precipitation_amount P1D) / PT06H / SN20280', 'sum(precipitation_amount P1D) / PT06H / SN20301', 'sum(precipitation_amount P1D) / PT06H / SN20301', 'sum(precipitation_amount P1D) / PT06H / SN22730', 'sum(precipitation_amount P1D) / PT06H / SN22730', 'sum(precipitation_amount P1D) / PT06H / SN24210', 'sum(precipitation_amount P1D) / PT06H / SN24210', 'sum(precipitation_amount P1D) / PT06H / SN24600', 'sum(precipitation_amount P1D) / PT06H / SN24600', 'sum(precipitation_amount P1D) / PT06H / SN24710', 'sum(precipitation_amount P1D) / PT06H / SN24710', 'sum(precipitation_amount P1D) / PT06H / SN26350', 'sum(precipitation_amount P1D) / PT06H / SN26350', 'sum(precipitation_amount P1D) / PT06H / SN26380', 'sum(precipitation_amount P1D) / PT06H / SN26380', 'sum(precipitation_amount P1D) / PT18H / SN20280', 'sum(precipitation_amount P1D) / PT18H / SN20301', 'sum(precipitation_amount P1D) / PT18H / SN24710', 'sum(precipitation_amount P1D) / PT18H / SN26350', 'sum(precipitation_amount P1M) / PT06H / SN20250', 'sum(precipitation_amount P1M) / PT06H / SN20280', 'sum(precipitation_amount P1M) / PT06H / SN20301', 'sum(precipitation_amount P1M) / PT06H / SN22730', 'sum(precipitation_amount P1M) / PT06H / SN24210', 'sum(precipitation_amount P1M) / PT06H / SN24600', 'sum(precipitation_amount P1M) / PT06H / SN24710', 'sum(precipitation_amount P1M) / PT06H / SN26350', 'sum(precipitation_amount P1M) / PT06H / SN26380', 'sum(precipitation_amount P1M) / PT18H / SN20280', 'sum(precipitation_amount P1M) / PT18H / SN20301', 'sum(precipitation_amount P1M) / PT18H / SN24710', 'sum(precipitation_amount P1M) / PT18H / SN26350', 'sum(precipitation_amount P1Y) / PT06H / SN20250', 'sum(precipitation_amount P1Y) / PT06H / SN20301', 'sum(precipitation_amount P1Y) / PT06H / SN22730', 'sum(precipitation_amount P1Y) / PT06H / SN24210', 'sum(precipitation_amount P1Y) / PT06H / SN24600', 'sum(precipitation_amount P1Y) / PT06H / SN24710', 'sum(precipitation_amount P1Y) / PT06H / SN26380', 'sum(precipitation_amount P30D) / PT06H / SN20280', 'sum(precipitation_amount P30D) / PT06H / SN20301', 'sum(precipitation_amount P30D) / PT06H / SN24710', 'sum(precipitation_amount P30D) / PT06H / SN26350', 'sum(precipitation_amount P3M) / PT06H / SN20250', 'sum(precipitation_amount P3M) / PT06H / SN20301', 'sum(precipitation_amount P3M) / PT06H / SN22730', 'sum(precipitation_amount P3M) / PT06H / SN24210', 'sum(precipitation_amount P3M) / PT06H / SN24600', 'sum(precipitation_amount P3M) / PT06H / SN24710', 'sum(precipitation_amount P3M) / PT06H / SN26380', 'sum(precipitation_amount P6M) / PT06H / SN20250', 'sum(precipitation_amount P6M) / PT06H / SN20301', 'sum(precipitation_amount P6M) / PT06H / SN22730', 'sum(precipitation_amount P6M) / PT06H / SN24210', 'sum(precipitation_amount P6M) / PT06H / SN24600', 'sum(precipitation_amount P6M) / PT06H / SN24710', 'sum(precipitation_amount P6M) / PT06H / SN26380', 'sum(precipitation_amount PT10M) / PT00H / SN24710', 'sum(precipitation_amount PT12H) / PT06H / SN20280', 'sum(precipitation_amount PT12H) / PT06H / SN20301', 'sum(precipitation_amount PT12H) / PT06H / SN24710', 'sum(precipitation_amount PT12H) / PT06H / SN26350', 'sum(precipitation_amount PT1H) / PT06H / SN20280', 'sum(precipitation_amount PT1H) / PT06H / SN24710', 'sum(precipitation_amount PT1H) / PT06H / SN26350', 'sum(precipitation_amount_anomaly P1M) / PT06H / SN20250', 'sum(precipitation_amount_anomaly P1M) / PT06H / SN20301', 'sum(precipitation_amount_anomaly P1M) / PT06H / SN22730', 'sum(precipitation_amount_anomaly P1M) / PT06H / SN24210', 'sum(precipitation_amount_anomaly P1M) / PT06H / SN24600', 'sum(precipitation_amount_anomaly P1M) / PT06H / SN24710', 'sum(precipitation_amount_anomaly P1M) / PT06H / SN26380', 'sum(precipitation_amount_anomaly P1Y) / PT06H / SN20250', 'sum(precipitation_amount_anomaly P1Y) / PT06H / SN20301', 'sum(precipitation_amount_anomaly P1Y) / PT06H / SN22730', 'sum(precipitation_amount_anomaly P1Y) / PT06H / SN24210', 'sum(precipitation_amount_anomaly P1Y) / PT06H / SN24600', 'sum(precipitation_amount_anomaly P1Y) / PT06H / SN24710', 'sum(precipitation_amount_anomaly P1Y) / PT06H / SN26380', 'sum(precipitation_amount_anomaly P3M) / PT06H / SN20250', 'sum(precipitation_amount_anomaly P3M) / PT06H / SN20301', 'sum(precipitation_amount_anomaly P3M) / PT06H / SN22730', 'sum(precipitation_amount_anomaly P3M) / PT06H / SN24210', 'sum(precipitation_amount_anomaly P3M) / PT06H / SN24600', 'sum(precipitation_amount_anomaly P3M) / PT06H / SN24710', 'sum(precipitation_amount_anomaly P3M) / PT06H / SN26380', 'sum(precipitation_amount_anomaly P6M) / PT06H / SN20250', 'sum(precipitation_amount_anomaly P6M) / PT06H / SN20301', 'sum(precipitation_amount_anomaly P6M) / PT06H / SN22730', 'sum(precipitation_amount_anomaly P6M) / PT06H / SN24210', 'sum(precipitation_amount_anomaly P6M) / PT06H / SN24600', 'sum(precipitation_amount_anomaly P6M) / PT06H / SN24710', 'sum(precipitation_amount_anomaly P6M) / PT06H / SN26380', 'surface_air_pressure / PT00H / SN20301', 'surface_air_pressure / PT00H / SN20301', 'surface_snow_thickness / PT00H / SN20250', 'surface_snow_thickness / PT00H / SN22730', 'surface_snow_thickness / PT00H / SN24210', 'surface_snow_thickness / PT00H / SN24600', 'surface_snow_thickness / PT00H / SN24710', 'surface_snow_thickness / PT00H / SN26380', 'surface_snow_thickness / PT06H / SN20250', 'surface_snow_thickness / PT06H / SN22730', 'surface_snow_thickness / PT06H / SN24210', 'surface_snow_thickness / PT06H / SN24600', 'surface_snow_thickness / PT06H / SN24710', 'surface_snow_thickness / PT06H / SN26380', 'tendency_of_surface_air_pressure_type / PT00H / SN20301', 'wind_from_direction / PT00H / SN20301', 'wind_from_direction / PT00H / SN24230', 'wind_from_direction / PT00H / SN24670', 'wind_from_direction / PT00H / SN24710', 'wind_from_direction / PT00H / SN24710', 'wind_from_direction / PT00H / SN26450', 'wind_from_direction / PT06H / SN20301', 'wind_from_direction / PT06H / SN24710', 'wind_from_direction / PT12H / SN20301', 'wind_from_direction / PT12H / SN24710', 'wind_from_direction / PT18H / SN20301', 'wind_from_direction / PT18H / SN24710', 'wind_speed / PT00H / SN20301', 'wind_speed / PT00H / SN24230', 'wind_speed / PT00H / SN24670', 'wind_speed / PT00H / SN24710', 'wind_speed / PT00H / SN24710', 'wind_speed / PT00H / SN26450'), value=()), ToggleButton(value=True, description='Fetch boy!', tooltip='Description')), layout=Layout(align_items='stretch', border='solid', display='flex', flex_flow='row', width='100%'))"
      ]
     },
     "metadata": {},
     "output_type": "display_data"
    },
    {
     "data": {
      "application/javascript": [
       "IPython.notebook.execute_cells([11])"
      ],
      "text/plain": [
       "<IPython.core.display.Javascript object>"
      ]
     },
     "metadata": {},
     "output_type": "display_data"
    },
    {
     "data": {
      "application/javascript": [
       "IPython.notebook.execute_cells([11])"
      ],
      "text/plain": [
       "<IPython.core.display.Javascript object>"
      ]
     },
     "metadata": {},
     "output_type": "display_data"
    },
    {
     "data": {
      "application/javascript": [
       "IPython.notebook.execute_cells([11])"
      ],
      "text/plain": [
       "<IPython.core.display.Javascript object>"
      ]
     },
     "metadata": {},
     "output_type": "display_data"
    },
    {
     "data": {
      "application/javascript": [
       "IPython.notebook.execute_cells([11])"
      ],
      "text/plain": [
       "<IPython.core.display.Javascript object>"
      ]
     },
     "metadata": {},
     "output_type": "display_data"
    },
    {
     "data": {
      "application/javascript": [
       "IPython.notebook.execute_cells([11])"
      ],
      "text/plain": [
       "<IPython.core.display.Javascript object>"
      ]
     },
     "metadata": {},
     "output_type": "display_data"
    },
    {
     "data": {
      "application/javascript": [
       "IPython.notebook.execute_cells([11])"
      ],
      "text/plain": [
       "<IPython.core.display.Javascript object>"
      ]
     },
     "metadata": {},
     "output_type": "display_data"
    },
    {
     "data": {
      "application/javascript": [
       "IPython.notebook.execute_cells([11])"
      ],
      "text/plain": [
       "<IPython.core.display.Javascript object>"
      ]
     },
     "metadata": {},
     "output_type": "display_data"
    },
    {
     "data": {
      "application/javascript": [
       "IPython.notebook.execute_cells([11])"
      ],
      "text/plain": [
       "<IPython.core.display.Javascript object>"
      ]
     },
     "metadata": {},
     "output_type": "display_data"
    }
   ],
   "source": [
    "#Javascript('IPython.notebook.execute_selected_cells()')\n",
    "print('Getting data for: {}'.format(w.value))\n",
    "pprint.pprint(stationsInBasin[w.value])\n",
    "variables = sorted([i['elementId'] + ' / ' + i['timeOffset'] + ' / ' + i['sourceId'][:-2] for i in dataInStations[w.value]])\n",
    "#pprint.pprint(dataInStations[w.value])\n",
    "list_widget = widgets.SelectMultiple(\n",
    "    options=variables,\n",
    "    #rows=10,\n",
    "    description='Data',\n",
    "    disabled=False,\n",
    "    layout=widgets.Layout(width='auto', min_height='250px', align_items='stretch')\n",
    ")\n",
    "\n",
    "run_button = widgets.ToggleButton(\n",
    "    value=True,\n",
    "    description='Fetch boy!',\n",
    "    disabled=False,\n",
    "    button_style='', # 'success', 'info', 'warning', 'danger' or ''\n",
    "    tooltip='Description',\n",
    "    #icon='check'\n",
    ")\n",
    "\n",
    "\n",
    "items = [\n",
    "    list_widget,\n",
    "    run_button\n",
    " ]\n",
    "\n",
    "box_layout = widgets.Layout(display='flex',\n",
    "                    flex_flow='row',\n",
    "                    align_items='stretch',\n",
    "                    border='solid',\n",
    "                    width='100%')\n",
    "box = widgets.Box(children=items, layout=box_layout)\n",
    "\n",
    "\n",
    "\n",
    "display(box)\n",
    "run_button.observe(on_fetch)\n",
    "\n"
   ]
  },
  {
   "cell_type": "code",
   "execution_count": 18,
   "metadata": {},
   "outputs": [
    {
     "name": "stdout",
     "output_type": "stream",
     "text": [
      "Stations in Langtjern, utløp\n",
      "Started download of integral_of_deficit(mean(air_temperature P1D) P1M 17.0)  in  SN20301...\n",
      "Done!\n",
      "       integral_of_deficit(mean(air_temperature P1D) P1M 17.0) \n",
      "count                                          25.000000       \n",
      "mean                                          333.340000       \n",
      "std                                           220.118076       \n",
      "min                                            33.100000       \n",
      "25%                                            97.300000       \n",
      "50%                                           356.600000       \n",
      "75%                                           500.200000       \n",
      "max                                           759.800000       \n"
     ]
    },
    {
     "data": {
      "image/png": "[encoded data removed]",
      "text/plain": [
       "<matplotlib.figure.Figure at 0x7f8111f02780>"
      ]
     },
     "metadata": {},
     "output_type": "display_data"
    }
   ],
   "source": [
    "variableList = [i.split('/') for i in list(list_widget.value)]\n",
    "print('Stations in {}'.format(w.value))\n",
    "pylab.rcParams['figure.figsize'] = (15, 4)\n",
    "for row in variableList :\n",
    "    df,junk = metno.downloadData(row[2],row[0],row[1],datesToGet)\n",
    "    print(df.describe())\n",
    "    df.plot(title=w.value + ' /'.join(row))\n",
    "\n",
    "#pprint.pprint(junk)\n",
    "    "
   ]
  },
  {
   "cell_type": "code",
   "execution_count": null,
   "metadata": {},
   "outputs": [],
   "source": [
    "conn.close()"
   ]
  }
 ],
 "metadata": {
  "kernelspec": {
   "display_name": "Python 3",
   "language": "python",
   "name": "python3"
  },
  "language_info": {
   "codemirror_mode": {
    "name": "ipython",
    "version": 3
   },
   "file_extension": ".py",
   "mimetype": "text/x-python",
   "name": "python",
   "nbconvert_exporter": "python",
   "pygments_lexer": "ipython3",
   "version": "3.5.2"
  }
 },
 "nbformat": 4,
 "nbformat_minor": 2
}
