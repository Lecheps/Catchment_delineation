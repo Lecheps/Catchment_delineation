version https://git-lfs.github.com/spec/v1
oid sha256:b7cfda7ae72db4e4da3c63ccedb50696100c24b88926f1cddebaeb40cd69ef63
size 66618121
